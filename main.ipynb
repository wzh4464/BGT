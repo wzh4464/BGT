{
 "cells": [
  {
   "cell_type": "code",
   "execution_count": null,
   "metadata": {},
   "outputs": [],
   "source": [
    "#Algorithm OM(0). (1) The commander sends his value to every lieutenant. (2) Each lieutenant uses the value he receives from the commander, or uses the value RETREAT if he receives no value. Algorithm OM(m), m > O. (1) The commander sends his value to every lieutenant. (2) For each i, let vi be the value Lieutenant i receives from the commander, or else be RETREAT if he re :eives no value. Lieutenant i acts as the commander in Algorithm OM(m - 1) to send the value vi to each of the n - 2 other lieutenants. (3) For each i, and each j ~ i, let vj be the value Lieutenant i received from Lieutenant j in step (2) (using Algorithm OM(m - 1)), or else RETREAT if he received no such value. Lieutenant i uses the value majority (vl ..... v,-1 ).\n",
    "\n",
    "is_traitor = [True, False, False, False, False, False, True]\n",
    "\n",
    "def OM(m, n, v, istrator, traitor_list):\n",
    "    if m == 0:\n",
    "        if istrator:\n",
    "            # print status and input the traitor's vote\n",
    "            # print part undefined\n",
    "            V = []\n",
    "            for j in range(1, n):\n",
    "                V.append(input(\"message to lieutenant %d: \" % j))\n",
    "            return V\n",
    "        else:\n",
    "            for j in range(1, n):\n",
    "                V.append(v)\n",
    "            return V\n",
    "    else:\n",
    "        # OM(m) m > 0\n",
    "        # (1) The commander sends his value to every lieutenant.\n",
    "        # let V be a n*n matrix\n",
    "        V = []\n",
    "        # diagonal elements is the commander's value\n",
    "        # for example, V[1][1] is the commander's value\n",
    "        for j in range(1, n):\n",
    "            for k in range(1, n):\n",
    "                if j == k:\n",
    "                    V[j][k] = v\n",
    "                else:\n",
    "                    V[j][k] = None\n",
    "        \n",
    "        # (2) For each i, let vi be the value Lieutenant i receives from the commander, or else be RETREAT if he re :eives no value.\n",
    "        for i in range(1, n):\n",
    "            new_traitor_list = traitor_list.copy()\n",
    "\n",
    "\n",
    "        \n",
    "\n",
    "\n",
    "\n",
    "        "
   ]
  },
  {
   "cell_type": "code",
   "execution_count": 3,
   "metadata": {},
   "outputs": [
    {
     "data": {
      "text/plain": [
       "1"
      ]
     },
     "execution_count": 3,
     "metadata": {},
     "output_type": "execute_result"
    }
   ],
   "source": [
    "V = [None]\n",
    "V.append(1)\n",
    "V[1]"
   ]
  },
  {
   "cell_type": "code",
   "execution_count": 1,
   "metadata": {},
   "outputs": [
    {
     "name": "stdout",
     "output_type": "stream",
     "text": [
      "[0, 1, 2, [1, 2, 3]]\n"
     ]
    }
   ],
   "source": [
    "a = [0,1,2]\n",
    "a.append([1,2,3])\n",
    "print(a)"
   ]
  },
  {
   "cell_type": "code",
   "execution_count": null,
   "metadata": {},
   "outputs": [],
   "source": []
  }
 ],
 "metadata": {
  "kernelspec": {
   "display_name": "Python 3",
   "language": "python",
   "name": "python3"
  },
  "language_info": {
   "codemirror_mode": {
    "name": "ipython",
    "version": 3
   },
   "file_extension": ".py",
   "mimetype": "text/x-python",
   "name": "python",
   "nbconvert_exporter": "python",
   "pygments_lexer": "ipython3",
   "version": "3.11.3"
  },
  "orig_nbformat": 4
 },
 "nbformat": 4,
 "nbformat_minor": 2
}
